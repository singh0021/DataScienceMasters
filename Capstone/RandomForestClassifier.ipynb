{
 "cells": [
  {
   "cell_type": "code",
   "execution_count": 2,
   "metadata": {
    "collapsed": false
   },
   "outputs": [],
   "source": [
    "import pandas as pd\n",
    "import numpy as np\n",
    "import matplotlib.pyplot as plt\n",
    "% matplotlib inline\n",
    "import scipy as sp\n",
    "from sklearn.metrics import accuracy_score\n",
    "import matplotlib.cm as cm\n",
    "pd.set_option('display.width',500)\n",
    "pd.set_option('display.max_columns',1000)\n",
    "import seaborn as sns\n",
    "sns.set_style(\"whitegrid\")\n",
    "sns.set_context(\"poster\")"
   ]
  },
  {
   "cell_type": "code",
   "execution_count": 3,
   "metadata": {
    "collapsed": false
   },
   "outputs": [],
   "source": [
    "c0=sns.color_palette()[0]\n",
    "c1=sns.color_palette()[1]\n",
    "c2 = sns.color_palette()[2]"
   ]
  },
  {
   "cell_type": "code",
   "execution_count": 4,
   "metadata": {
    "collapsed": true
   },
   "outputs": [],
   "source": [
    "CreditClient = pd.read_excel(\"default_ credit_clients.xls\", header=1)\n",
    "C=CreditClient"
   ]
  },
  {
   "cell_type": "code",
   "execution_count": 5,
   "metadata": {
    "collapsed": false
   },
   "outputs": [],
   "source": [
    "C=C.rename(columns={'default payment next month':'Y'})"
   ]
  },
  {
   "cell_type": "code",
   "execution_count": 6,
   "metadata": {
    "collapsed": false
   },
   "outputs": [],
   "source": [
    "C_X =C.drop(['ID','Y'],axis=1)"
   ]
  },
  {
   "cell_type": "code",
   "execution_count": 7,
   "metadata": {
    "collapsed": false
   },
   "outputs": [
    {
     "name": "stderr",
     "output_type": "stream",
     "text": [
      "C:\\Anaconda3.4\\lib\\site-packages\\sklearn\\cross_validation.py:44: DeprecationWarning: This module was deprecated in version 0.18 in favor of the model_selection module into which all the refactored classes and functions are moved. Also note that the interface of the new CV iterators are different from that of this module. This module will be removed in 0.20.\n",
      "  \"This module will be removed in 0.20.\", DeprecationWarning)\n"
     ]
    }
   ],
   "source": [
    "from sklearn.cross_validation import train_test_split\n",
    "Xtrain,Xtest,Ytrain, Ytest =train_test_split(C_X.values,C['Y'].values, random_state=0)"
   ]
  },
  {
   "cell_type": "code",
   "execution_count": 8,
   "metadata": {
    "collapsed": false
   },
   "outputs": [
    {
     "data": {
      "text/plain": [
       "'from sklearn.ensemble import RandomForestClassifier\\n##from sklearn import metrics\\nfor max_depth in np.random.randint(3, high=23, size=21, dtype=\\'l\\'):\\n    clf =RandomForestClassifier(max_depth =max_depth)\\n    clf.fit(Xtrain,Ytrain)\\n    ypred =clf.predict(Xtest)\\n    print (\"RF: max_depth = {0}\".format(max_depth))\\n    print (metrics.accuracy_score(Ytest,ypred))\\n    plt.figure()\\n    plt.imshow(metrics.confusion_matrix(ypred, Ytest),\\n               interpolation=\\'nearest\\', cmap=plt.cm.binary)\\n    plt.colorbar()\\n    plt.xlabel(\"true label\")\\n    plt.ylabel(\"predicted label\")\\n    plt.title(\"RF: max_depth = {0}\".format(max_depth))'"
      ]
     },
     "execution_count": 8,
     "metadata": {},
     "output_type": "execute_result"
    }
   ],
   "source": [
    "'''from sklearn.ensemble import RandomForestClassifier\n",
    "##from sklearn import metrics\n",
    "for max_depth in np.random.randint(3, high=23, size=21, dtype='l'):\n",
    "    clf =RandomForestClassifier(max_depth =max_depth)\n",
    "    clf.fit(Xtrain,Ytrain)\n",
    "    ypred =clf.predict(Xtest)\n",
    "    print (\"RF: max_depth = {0}\".format(max_depth))\n",
    "    print (metrics.accuracy_score(Ytest,ypred))\n",
    "    plt.figure()\n",
    "    plt.imshow(metrics.confusion_matrix(ypred, Ytest),\n",
    "               interpolation='nearest', cmap=plt.cm.binary)\n",
    "    plt.colorbar()\n",
    "    plt.xlabel(\"true label\")\n",
    "    plt.ylabel(\"predicted label\")\n",
    "    plt.title(\"RF: max_depth = {0}\".format(max_depth))'''"
   ]
  },
  {
   "cell_type": "markdown",
   "metadata": {
    "collapsed": true
   },
   "source": [
    "## Now will try to implement best parameter for random forest"
   ]
  },
  {
   "cell_type": "code",
   "execution_count": 9,
   "metadata": {
    "collapsed": true
   },
   "outputs": [],
   "source": [
    "from sklearn.cross_validation import KFold\n",
    "def cv_score(clf, x, y, score_func=accuracy_score):\n",
    "    result = 0\n",
    "    nfold = 5\n",
    "    for train, test in KFold(y.size, nfold): # split data into train/test groups, 5 times\n",
    "        clf.fit(x[train], y[train]) # fit\n",
    "        result += score_func(clf.predict(x[test]), y[test]) # evaluate score function on held-out data\n",
    "    return result / nfold # average\n",
    "    "
   ]
  },
  {
   "cell_type": "code",
   "execution_count": 11,
   "metadata": {
    "collapsed": false
   },
   "outputs": [
    {
     "name": "stdout",
     "output_type": "stream",
     "text": [
      "0.815911111111 5 13\n"
     ]
    }
   ],
   "source": [
    "from sklearn.ensemble import RandomForestClassifier\n",
    "max_score=0\n",
    "n_estimator=0\n",
    "##depth = np.random.randint(3,high=23, size=23, dtype='l') never gave me right parameter\n",
    "depth =[3,5,10,15,18]\n",
    "estimator =[5,7,10,13,18]\n",
    "for m in depth:\n",
    "    for e in estimator:\n",
    "        clf1 = RandomForestClassifier(max_depth=m, n_estimators=e)\n",
    "        score =cv_score(clf1,Xtrain,Ytrain)\n",
    "    \n",
    "        if score > max_score:\n",
    "            max_score =score\n",
    "            best_depth =m\n",
    "            best_estimator = e\n",
    "print (max_score, best_depth, best_estimator)    "
   ]
  },
  {
   "cell_type": "code",
   "execution_count": 12,
   "metadata": {
    "collapsed": true
   },
   "outputs": [],
   "source": [
    "clf2= RandomForestClassifier(max_depth=best_depth, n_estimators=best_estimator)\n",
    "clf2.fit(Xtrain,Ytrain)\n",
    "Ypred =clf2.predict(Xtest)"
   ]
  },
  {
   "cell_type": "code",
   "execution_count": 13,
   "metadata": {
    "collapsed": false
   },
   "outputs": [
    {
     "name": "stdout",
     "output_type": "stream",
     "text": [
      "accuracy score:  0.8256\n"
     ]
    }
   ],
   "source": [
    "print (\"accuracy score: \",  accuracy_score(Ytest,Ypred))"
   ]
  },
  {
   "cell_type": "code",
   "execution_count": null,
   "metadata": {
    "collapsed": false
   },
   "outputs": [],
   "source": [
    "C_X.head(10)"
   ]
  },
  {
   "cell_type": "markdown",
   "metadata": {
    "collapsed": true
   },
   "source": [
    "## Now we will try to use RandomForest with varying number of features"
   ]
  },
  {
   "cell_type": "code",
   "execution_count": null,
   "metadata": {
    "collapsed": false
   },
   "outputs": [],
   "source": [
    "C_X.columns"
   ]
  },
  {
   "cell_type": "code",
   "execution_count": 52,
   "metadata": {
    "collapsed": false
   },
   "outputs": [],
   "source": [
    "C_XX=C_X.drop(['PAY_3','PAY_AMT5','PAY_AMT6','BILL_AMT5','BILL_AMT6','BILL_AMT3','BILL_AMT4','BILL_AMT2','PAY_AMT5','PAY_AMT6','LIMIT_BAL','PAY_4','PAY_5'], axis=1)"
   ]
  },
  {
   "cell_type": "code",
   "execution_count": 75,
   "metadata": {
    "collapsed": false
   },
   "outputs": [
    {
     "data": {
      "text/html": [
       "<div>\n",
       "<table border=\"1\" class=\"dataframe\">\n",
       "  <thead>\n",
       "    <tr style=\"text-align: right;\">\n",
       "      <th></th>\n",
       "      <th>SEX</th>\n",
       "      <th>EDUCATION</th>\n",
       "      <th>MARRIAGE</th>\n",
       "      <th>AGE</th>\n",
       "      <th>PAY_0</th>\n",
       "      <th>PAY_2</th>\n",
       "      <th>PAY_6</th>\n",
       "      <th>BILL_AMT1</th>\n",
       "      <th>PAY_AMT1</th>\n",
       "      <th>PAY_AMT2</th>\n",
       "      <th>PAY_AMT3</th>\n",
       "      <th>PAY_AMT4</th>\n",
       "    </tr>\n",
       "  </thead>\n",
       "  <tbody>\n",
       "    <tr>\n",
       "      <th>0</th>\n",
       "      <td>2</td>\n",
       "      <td>2</td>\n",
       "      <td>1</td>\n",
       "      <td>24</td>\n",
       "      <td>2</td>\n",
       "      <td>2</td>\n",
       "      <td>-2</td>\n",
       "      <td>3913</td>\n",
       "      <td>0</td>\n",
       "      <td>689</td>\n",
       "      <td>0</td>\n",
       "      <td>0</td>\n",
       "    </tr>\n",
       "    <tr>\n",
       "      <th>1</th>\n",
       "      <td>2</td>\n",
       "      <td>2</td>\n",
       "      <td>2</td>\n",
       "      <td>26</td>\n",
       "      <td>-1</td>\n",
       "      <td>2</td>\n",
       "      <td>2</td>\n",
       "      <td>2682</td>\n",
       "      <td>0</td>\n",
       "      <td>1000</td>\n",
       "      <td>1000</td>\n",
       "      <td>1000</td>\n",
       "    </tr>\n",
       "    <tr>\n",
       "      <th>2</th>\n",
       "      <td>2</td>\n",
       "      <td>2</td>\n",
       "      <td>2</td>\n",
       "      <td>34</td>\n",
       "      <td>0</td>\n",
       "      <td>0</td>\n",
       "      <td>0</td>\n",
       "      <td>29239</td>\n",
       "      <td>1518</td>\n",
       "      <td>1500</td>\n",
       "      <td>1000</td>\n",
       "      <td>1000</td>\n",
       "    </tr>\n",
       "    <tr>\n",
       "      <th>3</th>\n",
       "      <td>2</td>\n",
       "      <td>2</td>\n",
       "      <td>1</td>\n",
       "      <td>37</td>\n",
       "      <td>0</td>\n",
       "      <td>0</td>\n",
       "      <td>0</td>\n",
       "      <td>46990</td>\n",
       "      <td>2000</td>\n",
       "      <td>2019</td>\n",
       "      <td>1200</td>\n",
       "      <td>1100</td>\n",
       "    </tr>\n",
       "  </tbody>\n",
       "</table>\n",
       "</div>"
      ],
      "text/plain": [
       "   SEX  EDUCATION  MARRIAGE  AGE  PAY_0  PAY_2  PAY_6  BILL_AMT1  PAY_AMT1  PAY_AMT2  PAY_AMT3  PAY_AMT4\n",
       "0    2          2         1   24      2      2     -2       3913         0       689         0         0\n",
       "1    2          2         2   26     -1      2      2       2682         0      1000      1000      1000\n",
       "2    2          2         2   34      0      0      0      29239      1518      1500      1000      1000\n",
       "3    2          2         1   37      0      0      0      46990      2000      2019      1200      1100"
      ]
     },
     "execution_count": 75,
     "metadata": {},
     "output_type": "execute_result"
    }
   ],
   "source": [
    "C_XX.head(4)"
   ]
  },
  {
   "cell_type": "code",
   "execution_count": 70,
   "metadata": {
    "collapsed": true
   },
   "outputs": [],
   "source": [
    "from sklearn.cross_validation import train_test_split\n",
    "X1_train, X1_test, Y1_train, Y1_test =train_test_split(C_XX.values, C['Y'].values, random_state=0)"
   ]
  },
  {
   "cell_type": "code",
   "execution_count": 71,
   "metadata": {
    "collapsed": true
   },
   "outputs": [],
   "source": [
    "from sklearn.cross_validation import KFold\n",
    "def cv_score2(clf,x,y,score_func=accuracy_score):\n",
    "    result =0\n",
    "    nfold =5\n",
    "    for train,test in KFold(y.size,nfold):\n",
    "        clf2.fit(x[train],y[train])\n",
    "        result += score_func(clf2.predict(x[test]),y[test])\n",
    "    return result/nfold"
   ]
  },
  {
   "cell_type": "code",
   "execution_count": 72,
   "metadata": {
    "collapsed": false
   },
   "outputs": [
    {
     "name": "stdout",
     "output_type": "stream",
     "text": [
      "0.819511111111 7 20\n"
     ]
    }
   ],
   "source": [
    "max_depth = [5,7,10,15,18]\n",
    "n_estimate = [5,10,15,18,20]\n",
    "max_score2=0\n",
    "for m in max_depth:\n",
    "    for est in n_estimate:\n",
    "        clf2= RandomForestClassifier(max_depth=m, n_estimators= est)\n",
    "        score2 = cv_score2(clf2, X1_train, Y1_train)\n",
    "        \n",
    "        if score2 > max_score2:\n",
    "            max_score2 =score2\n",
    "            best_depth2 = m\n",
    "            best_estimator2= est\n",
    "print (max_score2, best_depth2 , best_estimator2)"
   ]
  },
  {
   "cell_type": "code",
   "execution_count": 73,
   "metadata": {
    "collapsed": true
   },
   "outputs": [],
   "source": [
    "clf2=RandomForestClassifier(n_estimators= best_estimator2, max_depth =best_depth2)"
   ]
  },
  {
   "cell_type": "code",
   "execution_count": 74,
   "metadata": {
    "collapsed": false
   },
   "outputs": [
    {
     "name": "stdout",
     "output_type": "stream",
     "text": [
      "Accuracy_score 0.82773\n"
     ]
    }
   ],
   "source": [
    "clf2.fit(X1_train,Y1_train)\n",
    "Y1_pred =clf2.predict(X1_test)\n",
    "print (\"Accuracy_score %.5f\" % accuracy_score(Y1_test, Y1_pred))"
   ]
  },
  {
   "cell_type": "code",
   "execution_count": null,
   "metadata": {
    "collapsed": true
   },
   "outputs": [],
   "source": [
    "## getting 82.693 accuracy with _4 features\n",
    "## After removing AGE models gives good accuracy --82.533\n",
    "## Removing SEX column gives --82.613\n",
    "## Removing both gave --82.453\n",
    "## Removing Marriage gave me -- 82.600\n",
    "## LIMIT_BAL gave me --82.44\n",
    "## Removing everything with pay_3, pay_4 gives --82.787\n",
    "## Adding LIMIT_BAL, MARRIAGE,AGE, SEX, EDUCATION --82.547\n",
    "## Removing marriage -- 82.627\n",
    "## Removing BILL_AMT3, BILL_AMT4-- 82.707\n",
    "## BILL_AMT2--82.773\n",
    "## Adding PAY_AMT5, PAY_AMT6 gave me -- 82.98"
   ]
  }
 ],
 "metadata": {
  "kernelspec": {
   "display_name": "Python 3",
   "language": "python",
   "name": "python3"
  },
  "language_info": {
   "codemirror_mode": {
    "name": "ipython",
    "version": 3
   },
   "file_extension": ".py",
   "mimetype": "text/x-python",
   "name": "python",
   "nbconvert_exporter": "python",
   "pygments_lexer": "ipython3",
   "version": "3.5.2"
  }
 },
 "nbformat": 4,
 "nbformat_minor": 0
}
