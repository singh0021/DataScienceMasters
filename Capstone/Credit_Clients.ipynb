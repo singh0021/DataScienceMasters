{
 "cells": [
  {
   "cell_type": "code",
   "execution_count": 1,
   "metadata": {
    "collapsed": false
   },
   "outputs": [
    {
     "name": "stdout",
     "output_type": "stream",
     "text": [
      "E:\\GitHub\\Capstone\n"
     ]
    }
   ],
   "source": [
    "%cd E:\\GitHub\\Capstone"
   ]
  },
  {
   "cell_type": "code",
   "execution_count": 2,
   "metadata": {
    "collapsed": false
   },
   "outputs": [
    {
     "name": "stdout",
     "output_type": "stream",
     "text": [
      "Populating the interactive namespace from numpy and matplotlib\n"
     ]
    }
   ],
   "source": [
    "import matplotlib.pyplot as plt\n",
    "import numpy as np\n",
    "import pandas as pd\n",
    "%pwd\n",
    "%matplotlib inline\n",
    "%pylab inline"
   ]
  },
  {
   "cell_type": "code",
   "execution_count": 3,
   "metadata": {
    "collapsed": false
   },
   "outputs": [],
   "source": [
    "CreditClient = pd.read_excel(\"default_ credit_clients.xls\", header=1)"
   ]
  },
  {
   "cell_type": "code",
   "execution_count": 4,
   "metadata": {
    "collapsed": false
   },
   "outputs": [],
   "source": [
    "C=CreditClient"
   ]
  },
  {
   "cell_type": "code",
   "execution_count": 5,
   "metadata": {
    "collapsed": false
   },
   "outputs": [
    {
     "data": {
      "text/plain": [
       "<matplotlib.axes._subplots.AxesSubplot at 0x2421a5d5c88>"
      ]
     },
     "execution_count": 5,
     "metadata": {},
     "output_type": "execute_result"
    },
    {
     "data": {
      "image/png": "[encoded data removed]",
      "text/plain": [
       "<matplotlib.figure.Figure at 0x2421a5d52b0>"
      ]
     },
     "metadata": {},
     "output_type": "display_data"
    }
   ],
   "source": [
    "C.SEX.value_counts().plot(kind='bar')"
   ]
  },
  {
   "cell_type": "markdown",
   "metadata": {},
   "source": [
    "## FEMALES are more in numbers"
   ]
  },
  {
   "cell_type": "code",
   "execution_count": null,
   "metadata": {
    "collapsed": true
   },
   "outputs": [],
   "source": []
  },
  {
   "cell_type": "code",
   "execution_count": 6,
   "metadata": {
    "collapsed": false
   },
   "outputs": [],
   "source": [
    "#Credit=CreditClient.replace({\"SEX\":{1:\"Male\",2:\"Female\"},\"default payment next month\":{1:\"Yes\",0:\"No\"},\"EDUCATION\":{1:\"Graduate\",2:\"University\",3:\"Others\"}\n",
    "                            # ,\"MARRIAGE\":{1:\"Married\",2:\"Single\",3:\"Others\"}})\n",
    "Credit=CreditClient.rename(columns={\"default payment next month\":\"Y\"})"
   ]
  },
  {
   "cell_type": "code",
   "execution_count": 7,
   "metadata": {
    "collapsed": false
   },
   "outputs": [
    {
     "data": {
      "text/html": [
       "<div>\n",
       "<table border=\"1\" class=\"dataframe\">\n",
       "  <thead>\n",
       "    <tr style=\"text-align: right;\">\n",
       "      <th></th>\n",
       "      <th>ID</th>\n",
       "      <th>LIMIT_BAL</th>\n",
       "      <th>SEX</th>\n",
       "      <th>EDUCATION</th>\n",
       "      <th>MARRIAGE</th>\n",
       "      <th>AGE</th>\n",
       "      <th>PAY_0</th>\n",
       "      <th>PAY_2</th>\n",
       "      <th>PAY_3</th>\n",
       "      <th>PAY_4</th>\n",
       "      <th>...</th>\n",
       "      <th>BILL_AMT4</th>\n",
       "      <th>BILL_AMT5</th>\n",
       "      <th>BILL_AMT6</th>\n",
       "      <th>PAY_AMT1</th>\n",
       "      <th>PAY_AMT2</th>\n",
       "      <th>PAY_AMT3</th>\n",
       "      <th>PAY_AMT4</th>\n",
       "      <th>PAY_AMT5</th>\n",
       "      <th>PAY_AMT6</th>\n",
       "      <th>Y</th>\n",
       "    </tr>\n",
       "  </thead>\n",
       "  <tbody>\n",
       "    <tr>\n",
       "      <th>0</th>\n",
       "      <td>1</td>\n",
       "      <td>20000</td>\n",
       "      <td>2</td>\n",
       "      <td>2</td>\n",
       "      <td>1</td>\n",
       "      <td>24</td>\n",
       "      <td>2</td>\n",
       "      <td>2</td>\n",
       "      <td>-1</td>\n",
       "      <td>-1</td>\n",
       "      <td>...</td>\n",
       "      <td>0</td>\n",
       "      <td>0</td>\n",
       "      <td>0</td>\n",
       "      <td>0</td>\n",
       "      <td>689</td>\n",
       "      <td>0</td>\n",
       "      <td>0</td>\n",
       "      <td>0</td>\n",
       "      <td>0</td>\n",
       "      <td>1</td>\n",
       "    </tr>\n",
       "    <tr>\n",
       "      <th>1</th>\n",
       "      <td>2</td>\n",
       "      <td>120000</td>\n",
       "      <td>2</td>\n",
       "      <td>2</td>\n",
       "      <td>2</td>\n",
       "      <td>26</td>\n",
       "      <td>-1</td>\n",
       "      <td>2</td>\n",
       "      <td>0</td>\n",
       "      <td>0</td>\n",
       "      <td>...</td>\n",
       "      <td>3272</td>\n",
       "      <td>3455</td>\n",
       "      <td>3261</td>\n",
       "      <td>0</td>\n",
       "      <td>1000</td>\n",
       "      <td>1000</td>\n",
       "      <td>1000</td>\n",
       "      <td>0</td>\n",
       "      <td>2000</td>\n",
       "      <td>1</td>\n",
       "    </tr>\n",
       "    <tr>\n",
       "      <th>2</th>\n",
       "      <td>3</td>\n",
       "      <td>90000</td>\n",
       "      <td>2</td>\n",
       "      <td>2</td>\n",
       "      <td>2</td>\n",
       "      <td>34</td>\n",
       "      <td>0</td>\n",
       "      <td>0</td>\n",
       "      <td>0</td>\n",
       "      <td>0</td>\n",
       "      <td>...</td>\n",
       "      <td>14331</td>\n",
       "      <td>14948</td>\n",
       "      <td>15549</td>\n",
       "      <td>1518</td>\n",
       "      <td>1500</td>\n",
       "      <td>1000</td>\n",
       "      <td>1000</td>\n",
       "      <td>1000</td>\n",
       "      <td>5000</td>\n",
       "      <td>0</td>\n",
       "    </tr>\n",
       "  </tbody>\n",
       "</table>\n",
       "<p>3 rows × 25 columns</p>\n",
       "</div>"
      ],
      "text/plain": [
       "   ID  LIMIT_BAL  SEX  EDUCATION  MARRIAGE  AGE  PAY_0  PAY_2  PAY_3  PAY_4  \\\n",
       "0   1      20000    2          2         1   24      2      2     -1     -1   \n",
       "1   2     120000    2          2         2   26     -1      2      0      0   \n",
       "2   3      90000    2          2         2   34      0      0      0      0   \n",
       "\n",
       "  ...  BILL_AMT4  BILL_AMT5  BILL_AMT6  PAY_AMT1  PAY_AMT2  PAY_AMT3  \\\n",
       "0 ...          0          0          0         0       689         0   \n",
       "1 ...       3272       3455       3261         0      1000      1000   \n",
       "2 ...      14331      14948      15549      1518      1500      1000   \n",
       "\n",
       "   PAY_AMT4  PAY_AMT5  PAY_AMT6  Y  \n",
       "0         0         0         0  1  \n",
       "1      1000         0      2000  1  \n",
       "2      1000      1000      5000  0  \n",
       "\n",
       "[3 rows x 25 columns]"
      ]
     },
     "execution_count": 7,
     "metadata": {},
     "output_type": "execute_result"
    }
   ],
   "source": [
    "Credit.head(3)"
   ]
  },
  {
   "cell_type": "markdown",
   "metadata": {},
   "source": [
    "## Clients for whom payment expected, payment given, payment delayed by 1 & 2 months are more @ default in Sep,2005"
   ]
  },
  {
   "cell_type": "code",
   "execution_count": 8,
   "metadata": {
    "collapsed": false
   },
   "outputs": [
    {
     "data": {
      "text/plain": [
       "<matplotlib.axes._subplots.AxesSubplot at 0x2421a5cfb70>"
      ]
     },
     "execution_count": 8,
     "metadata": {},
     "output_type": "execute_result"
    },
    {
     "data": {
      "image/png": "[encoded data removed]",
      "text/plain": [
       "<matplotlib.figure.Figure at 0x242180f8748>"
      ]
     },
     "metadata": {},
     "output_type": "display_data"
    }
   ],
   "source": [
    "C_Sep=Credit.groupby(['Y','PAY_0']).size()\n",
    "C_Sep.unstack(0).plot(kind='bar')"
   ]
  },
  {
   "cell_type": "markdown",
   "metadata": {},
   "source": [
    "## Clients for whom payment expected, payment given, payment delayed by 2 months are more @ default in Aug,2005"
   ]
  },
  {
   "cell_type": "code",
   "execution_count": 9,
   "metadata": {
    "collapsed": false
   },
   "outputs": [
    {
     "data": {
      "text/plain": [
       "<matplotlib.axes._subplots.AxesSubplot at 0x24217f7f550>"
      ]
     },
     "execution_count": 9,
     "metadata": {},
     "output_type": "execute_result"
    },
    {
     "data": {
      "image/png": "[encoded data removed]",
      "text/plain": [
       "<matplotlib.figure.Figure at 0x24217fc2828>"
      ]
     },
     "metadata": {},
     "output_type": "display_data"
    }
   ],
   "source": [
    "C_Aug=Credit.groupby(['Y','PAY_2']).size()\n",
    "C_Aug.unstack(0).plot(kind='bar')"
   ]
  },
  {
   "cell_type": "code",
   "execution_count": 10,
   "metadata": {
    "collapsed": false
   },
   "outputs": [
    {
     "data": {
      "text/plain": [
       "<matplotlib.axes._subplots.AxesSubplot at 0x24218095128>"
      ]
     },
     "execution_count": 10,
     "metadata": {},
     "output_type": "execute_result"
    },
    {
     "data": {
      "image/png": "[encoded data removed]",
      "text/plain": [
       "<matplotlib.figure.Figure at 0x2421804aef0>"
      ]
     },
     "metadata": {},
     "output_type": "display_data"
    }
   ],
   "source": [
    "C_July=Credit.groupby(['Y','PAY_3']).size()\n",
    "C_July.unstack(0).plot(kind='bar')"
   ]
  },
  {
   "cell_type": "code",
   "execution_count": 11,
   "metadata": {
    "collapsed": false
   },
   "outputs": [
    {
     "data": {
      "text/plain": [
       "<matplotlib.axes._subplots.AxesSubplot at 0x2421868d588>"
      ]
     },
     "execution_count": 11,
     "metadata": {},
     "output_type": "execute_result"
    },
    {
     "data": {
      "image/png": "[encoded data removed]",
      "text/plain": [
       "<matplotlib.figure.Figure at 0x24218658cf8>"
      ]
     },
     "metadata": {},
     "output_type": "display_data"
    }
   ],
   "source": [
    "C_June=Credit.groupby(['Y','PAY_4']).size()\n",
    "C_June.unstack(0).plot(kind='bar')"
   ]
  },
  {
   "cell_type": "code",
   "execution_count": 12,
   "metadata": {
    "collapsed": false
   },
   "outputs": [
    {
     "data": {
      "text/plain": [
       "<matplotlib.axes._subplots.AxesSubplot at 0x242186c1b70>"
      ]
     },
     "execution_count": 12,
     "metadata": {},
     "output_type": "execute_result"
    },
    {
     "data": {
      "image/png": "[encoded data removed]",
      "text/plain": [
       "<matplotlib.figure.Figure at 0x2421872a128>"
      ]
     },
     "metadata": {},
     "output_type": "display_data"
    }
   ],
   "source": [
    "C_May=Credit.groupby(['Y','PAY_5']).size()\n",
    "C_May.unstack(0).plot(kind='bar')"
   ]
  },
  {
   "cell_type": "code",
   "execution_count": 13,
   "metadata": {
    "collapsed": false
   },
   "outputs": [
    {
     "data": {
      "text/plain": [
       "<matplotlib.axes._subplots.AxesSubplot at 0x24217ffd438>"
      ]
     },
     "execution_count": 13,
     "metadata": {},
     "output_type": "execute_result"
    },
    {
     "data": {
      "image/png": "[encoded data removed]",
      "text/plain": [
       "<matplotlib.figure.Figure at 0x242187e5e10>"
      ]
     },
     "metadata": {},
     "output_type": "display_data"
    }
   ],
   "source": [
    "C_April=Credit.groupby(['Y','PAY_6']).size()\n",
    "C_April.unstack(0).plot(kind='bar')"
   ]
  },
  {
   "cell_type": "markdown",
   "metadata": {},
   "source": [
    "## Client whose credit balance was less than 150000 are more likely to default"
   ]
  },
  {
   "cell_type": "code",
   "execution_count": 14,
   "metadata": {
    "collapsed": false
   },
   "outputs": [
    {
     "data": {
      "text/plain": [
       "(array([ 3246.,  1263.,   916.,   606.,   319.,   121.,   146.,    10.,\n",
       "            5.,     4.]),\n",
       " array([  10000.,   83000.,  156000.,  229000.,  302000.,  375000.,\n",
       "         448000.,  521000.,  594000.,  667000.,  740000.]),\n",
       " <a list of 10 Patch objects>)"
      ]
     },
     "execution_count": 14,
     "metadata": {},
     "output_type": "execute_result"
    },
    {
     "data": {
      "image/png": "[encoded data removed]",
      "text/plain": [
       "<matplotlib.figure.Figure at 0x242187cc7f0>"
      ]
     },
     "metadata": {},
     "output_type": "display_data"
    }
   ],
   "source": [
    "C_Bal=Credit[Credit.Y==1]\n",
    "plt.hist(C_Bal.LIMIT_BAL, bins=10)"
   ]
  },
  {
   "cell_type": "markdown",
   "metadata": {},
   "source": [
    "## LIMIT BALANCE is actually high for females and hence propotion of males will be higher in default"
   ]
  },
  {
   "cell_type": "code",
   "execution_count": 15,
   "metadata": {
    "collapsed": false
   },
   "outputs": [
    {
     "data": {
      "text/plain": [
       "<matplotlib.axes._subplots.AxesSubplot at 0x242188ee8d0>"
      ]
     },
     "execution_count": 15,
     "metadata": {},
     "output_type": "execute_result"
    },
    {
     "data": {
      "image/png": "[encoded data removed]",
      "text/plain": [
       "<matplotlib.figure.Figure at 0x24217fc5ac8>"
      ]
     },
     "metadata": {},
     "output_type": "display_data"
    }
   ],
   "source": [
    "C_Bal.boxplot('LIMIT_BAL', 'SEX', vert=False)"
   ]
  },
  {
   "cell_type": "markdown",
   "metadata": {},
   "source": [
    "## Clients whose bill payment is either negative or below 150000 are more likely to default"
   ]
  },
  {
   "cell_type": "code",
   "execution_count": 16,
   "metadata": {
    "collapsed": false
   },
   "outputs": [
    {
     "data": {
      "text/plain": [
       "(array([ 4889.,   964.,   391.,   180.,    96.,    53.,    27.,    13.,\n",
       "           16.,     7.]),\n",
       " array([  -6676. ,   55377.6,  117431.2,  179484.8,  241538.4,  303592. ,\n",
       "         365645.6,  427699.2,  489752.8,  551806.4,  613860. ]),\n",
       " <a list of 10 Patch objects>)"
      ]
     },
     "execution_count": 16,
     "metadata": {},
     "output_type": "execute_result"
    },
    {
     "data": {
      "image/png": "[encoded data removed]",
      "text/plain": [
       "<matplotlib.figure.Figure at 0x2421ad75390>"
      ]
     },
     "metadata": {},
     "output_type": "display_data"
    }
   ],
   "source": [
    "plt.hist(C_Bal.BILL_AMT1)"
   ]
  },
  {
   "cell_type": "code",
   "execution_count": 17,
   "metadata": {
    "collapsed": false
   },
   "outputs": [
    {
     "data": {
      "text/plain": [
       "(array([ 4350.,  1392.,   438.,   220.,    99.,    61.,    36.,    15.,\n",
       "           15.,    10.]),\n",
       " array([ -17710. ,   42238.5,  102187. ,  162135.5,  222084. ,  282032.5,\n",
       "         341981. ,  401929.5,  461878. ,  521826.5,  581775. ]),\n",
       " <a list of 10 Patch objects>)"
      ]
     },
     "execution_count": 17,
     "metadata": {},
     "output_type": "execute_result"
    },
    {
     "data": {
      "image/png": "[encoded data removed]",
      "text/plain": [
       "<matplotlib.figure.Figure at 0x24219affc50>"
      ]
     },
     "metadata": {},
     "output_type": "display_data"
    }
   ],
   "source": [
    "plt.hist(C_Bal.BILL_AMT2)"
   ]
  },
  {
   "cell_type": "markdown",
   "metadata": {},
   "source": [
    "## Clients whose bill amount is either negative(60000) or below 200000 are more likely to default in July,2005"
   ]
  },
  {
   "cell_type": "code",
   "execution_count": 18,
   "metadata": {
    "collapsed": false
   },
   "outputs": [
    {
     "data": {
      "text/plain": [
       "(array([ 1684.,  3544.,   799.,   325.,   132.,    70.,    44.,    19.,\n",
       "           12.,     7.]),\n",
       " array([ -61506. ,    2541.7,   66589.4,  130637.1,  194684.8,  258732.5,\n",
       "         322780.2,  386827.9,  450875.6,  514923.3,  578971. ]),\n",
       " <a list of 10 Patch objects>)"
      ]
     },
     "execution_count": 18,
     "metadata": {},
     "output_type": "execute_result"
    },
    {
     "data": {
      "image/png": "[encoded data removed]",
      "text/plain": [
       "<matplotlib.figure.Figure at 0x24218780860>"
      ]
     },
     "metadata": {},
     "output_type": "display_data"
    }
   ],
   "source": [
    "plt.hist(C_Bal.BILL_AMT3)"
   ]
  },
  {
   "cell_type": "code",
   "execution_count": 19,
   "metadata": {
    "collapsed": false
   },
   "outputs": [
    {
     "data": {
      "text/plain": [
       "(array([  3.00000000e+00,   2.26500000e+03,   2.35900000e+03,\n",
       "          8.04000000e+02,   4.09000000e+02,   2.60000000e+02,\n",
       "          1.81000000e+02,   1.13000000e+02,   7.70000000e+01,\n",
       "          4.00000000e+01,   3.60000000e+01,   2.70000000e+01,\n",
       "          2.20000000e+01,   8.00000000e+00,   9.00000000e+00,\n",
       "          7.00000000e+00,   7.00000000e+00,   4.00000000e+00,\n",
       "          3.00000000e+00,   2.00000000e+00]),\n",
       " array([ -53007.  ,  -22962.65,    7081.7 ,   37126.05,   67170.4 ,\n",
       "          97214.75,  127259.1 ,  157303.45,  187347.8 ,  217392.15,\n",
       "         247436.5 ,  277480.85,  307525.2 ,  337569.55,  367613.9 ,\n",
       "         397658.25,  427702.6 ,  457746.95,  487791.3 ,  517835.65,  547880.  ]),\n",
       " <a list of 20 Patch objects>)"
      ]
     },
     "execution_count": 19,
     "metadata": {},
     "output_type": "execute_result"
    },
    {
     "data": {
      "image/png": "[encoded data removed]",
      "text/plain": [
       "<matplotlib.figure.Figure at 0x24219cc9518>"
      ]
     },
     "metadata": {},
     "output_type": "display_data"
    }
   ],
   "source": [
    "plt.hist(C_Bal.BILL_AMT5, bins=20)"
   ]
  },
  {
   "cell_type": "code",
   "execution_count": 20,
   "metadata": {
    "collapsed": false
   },
   "outputs": [
    {
     "data": {
      "text/plain": [
       "(array([  1.10000000e+01,   1.39530000e+04,   5.04900000e+03,\n",
       "          2.08100000e+03,   1.06500000e+03,   5.90000000e+02,\n",
       "          2.80000000e+02,   1.43000000e+02,   8.80000000e+01,\n",
       "          5.50000000e+01,   3.20000000e+01,   7.00000000e+00,\n",
       "          5.00000000e+00,   2.00000000e+00,   1.00000000e+00,\n",
       "          1.00000000e+00,   0.00000000e+00,   0.00000000e+00,\n",
       "          0.00000000e+00,   1.00000000e+00]),\n",
       " array([ -69777. ,  -17091.6,   35593.8,   88279.2,  140964.6,  193650. ,\n",
       "         246335.4,  299020.8,  351706.2,  404391.6,  457077. ,  509762.4,\n",
       "         562447.8,  615133.2,  667818.6,  720504. ,  773189.4,  825874.8,\n",
       "         878560.2,  931245.6,  983931. ]),\n",
       " <a list of 20 Patch objects>)"
      ]
     },
     "execution_count": 20,
     "metadata": {},
     "output_type": "execute_result"
    },
    {
     "data": {
      "image/png": "[encoded data removed]",
      "text/plain": [
       "<matplotlib.figure.Figure at 0x24219d210f0>"
      ]
     },
     "metadata": {},
     "output_type": "display_data"
    }
   ],
   "source": [
    "C_Y=Credit[Credit.Y==0]\n",
    "plt.hist(C_Y.BILL_AMT2,bins=20)"
   ]
  },
  {
   "cell_type": "markdown",
   "metadata": {},
   "source": [
    "## Clients who have not paid any amount or amount paid is less than 5000 are more likely to default"
   ]
  },
  {
   "cell_type": "code",
   "execution_count": 21,
   "metadata": {
    "collapsed": false
   },
   "outputs": [
    {
     "data": {
      "text/plain": [
       "(array([  6.56500000e+03,   3.40000000e+01,   1.60000000e+01,\n",
       "          9.00000000e+00,   5.00000000e+00,   3.00000000e+00,\n",
       "          0.00000000e+00,   0.00000000e+00,   2.00000000e+00,\n",
       "          2.00000000e+00]),\n",
       " array([      0.,   33200.,   66400.,   99600.,  132800.,  166000.,\n",
       "         199200.,  232400.,  265600.,  298800.,  332000.]),\n",
       " <a list of 10 Patch objects>)"
      ]
     },
     "execution_count": 21,
     "metadata": {},
     "output_type": "execute_result"
    },
    {
     "data": {
      "image/png": "[encoded data removed]",
      "text/plain": [
       "<matplotlib.figure.Figure at 0x2421a23c438>"
      ]
     },
     "metadata": {},
     "output_type": "display_data"
    }
   ],
   "source": [
    "plt.hist(C_Bal.PAY_AMT5)"
   ]
  },
  {
   "cell_type": "code",
   "execution_count": 22,
   "metadata": {
    "collapsed": false
   },
   "outputs": [
    {
     "name": "stderr",
     "output_type": "stream",
     "text": [
      "C:\\Anaconda3\\lib\\site-packages\\ipykernel\\__main__.py:1: SettingWithCopyWarning: \n",
      "A value is trying to be set on a copy of a slice from a DataFrame.\n",
      "Try using .loc[row_indexer,col_indexer] = value instead\n",
      "\n",
      "See the caveats in the documentation: http://pandas.pydata.org/pandas-docs/stable/indexing.html#indexing-view-versus-copy\n",
      "  if __name__ == '__main__':\n"
     ]
    },
    {
     "data": {
      "text/html": [
       "<div>\n",
       "<table border=\"1\" class=\"dataframe\">\n",
       "  <thead>\n",
       "    <tr style=\"text-align: right;\">\n",
       "      <th></th>\n",
       "      <th>ID</th>\n",
       "      <th>LIMIT_BAL</th>\n",
       "      <th>SEX</th>\n",
       "      <th>EDUCATION</th>\n",
       "      <th>MARRIAGE</th>\n",
       "      <th>AGE</th>\n",
       "      <th>PAY_0</th>\n",
       "      <th>PAY_2</th>\n",
       "      <th>PAY_3</th>\n",
       "      <th>PAY_4</th>\n",
       "      <th>...</th>\n",
       "      <th>BILL_AMT5</th>\n",
       "      <th>BILL_AMT6</th>\n",
       "      <th>PAY_AMT1</th>\n",
       "      <th>PAY_AMT2</th>\n",
       "      <th>PAY_AMT3</th>\n",
       "      <th>PAY_AMT4</th>\n",
       "      <th>PAY_AMT5</th>\n",
       "      <th>PAY_AMT6</th>\n",
       "      <th>Y</th>\n",
       "      <th>Diff</th>\n",
       "    </tr>\n",
       "  </thead>\n",
       "  <tbody>\n",
       "    <tr>\n",
       "      <th>0</th>\n",
       "      <td>1</td>\n",
       "      <td>20000</td>\n",
       "      <td>2</td>\n",
       "      <td>2</td>\n",
       "      <td>1</td>\n",
       "      <td>24</td>\n",
       "      <td>2</td>\n",
       "      <td>2</td>\n",
       "      <td>-1</td>\n",
       "      <td>-1</td>\n",
       "      <td>...</td>\n",
       "      <td>0</td>\n",
       "      <td>0</td>\n",
       "      <td>0</td>\n",
       "      <td>689</td>\n",
       "      <td>0</td>\n",
       "      <td>0</td>\n",
       "      <td>0</td>\n",
       "      <td>0</td>\n",
       "      <td>1</td>\n",
       "      <td>20000</td>\n",
       "    </tr>\n",
       "    <tr>\n",
       "      <th>1</th>\n",
       "      <td>2</td>\n",
       "      <td>120000</td>\n",
       "      <td>2</td>\n",
       "      <td>2</td>\n",
       "      <td>2</td>\n",
       "      <td>26</td>\n",
       "      <td>-1</td>\n",
       "      <td>2</td>\n",
       "      <td>0</td>\n",
       "      <td>0</td>\n",
       "      <td>...</td>\n",
       "      <td>3455</td>\n",
       "      <td>3261</td>\n",
       "      <td>0</td>\n",
       "      <td>1000</td>\n",
       "      <td>1000</td>\n",
       "      <td>1000</td>\n",
       "      <td>0</td>\n",
       "      <td>2000</td>\n",
       "      <td>1</td>\n",
       "      <td>120000</td>\n",
       "    </tr>\n",
       "  </tbody>\n",
       "</table>\n",
       "<p>2 rows × 26 columns</p>\n",
       "</div>"
      ],
      "text/plain": [
       "   ID  LIMIT_BAL  SEX  EDUCATION  MARRIAGE  AGE  PAY_0  PAY_2  PAY_3  PAY_4  \\\n",
       "0   1      20000    2          2         1   24      2      2     -1     -1   \n",
       "1   2     120000    2          2         2   26     -1      2      0      0   \n",
       "\n",
       "    ...    BILL_AMT5  BILL_AMT6  PAY_AMT1  PAY_AMT2  PAY_AMT3  PAY_AMT4  \\\n",
       "0   ...            0          0         0       689         0         0   \n",
       "1   ...         3455       3261         0      1000      1000      1000   \n",
       "\n",
       "   PAY_AMT5  PAY_AMT6  Y    Diff  \n",
       "0         0         0  1   20000  \n",
       "1         0      2000  1  120000  \n",
       "\n",
       "[2 rows x 26 columns]"
      ]
     },
     "execution_count": 22,
     "metadata": {},
     "output_type": "execute_result"
    }
   ],
   "source": [
    "C_Bal['Diff']=C_Bal.LIMIT_BAL-C_Bal.PAY_AMT1\n",
    "C_Bal.head(2)"
   ]
  },
  {
   "cell_type": "code",
   "execution_count": 23,
   "metadata": {
    "collapsed": false
   },
   "outputs": [
    {
     "data": {
      "text/plain": [
       "(array([  1.00000000e+00,   7.00000000e+00,   1.53200000e+03,\n",
       "          1.61000000e+03,   8.00000000e+02,   7.10000000e+02,\n",
       "          5.77000000e+02,   4.31000000e+02,   2.38000000e+02,\n",
       "          2.14000000e+02,   2.31000000e+02,   8.10000000e+01,\n",
       "          5.30000000e+01,   5.80000000e+01,   7.70000000e+01,\n",
       "          5.00000000e+00,   5.00000000e+00,   2.00000000e+00,\n",
       "          1.00000000e+00,   3.00000000e+00]),\n",
       " array([ -84047. ,  -43256.1,   -2465.2,   38325.7,   79116.6,  119907.5,\n",
       "         160698.4,  201489.3,  242280.2,  283071.1,  323862. ,  364652.9,\n",
       "         405443.8,  446234.7,  487025.6,  527816.5,  568607.4,  609398.3,\n",
       "         650189.2,  690980.1,  731771. ]),\n",
       " <a list of 20 Patch objects>)"
      ]
     },
     "execution_count": 23,
     "metadata": {},
     "output_type": "execute_result"
    },
    {
     "data": {
      "image/png": "[encoded data removed]",
      "text/plain": [
       "<matplotlib.figure.Figure at 0x24219d61518>"
      ]
     },
     "metadata": {},
     "output_type": "display_data"
    }
   ],
   "source": [
    "plt.hist(C_Bal.Diff,bins=20)"
   ]
  },
  {
   "cell_type": "markdown",
   "metadata": {},
   "source": [
    "## Females bill amounts are higher than limit balance and hence more likely to default"
   ]
  },
  {
   "cell_type": "code",
   "execution_count": 24,
   "metadata": {
    "collapsed": false
   },
   "outputs": [],
   "source": [
    "C_BILL=C_Bal[C_Bal.LIMIT_BAL < (C_Bal.BILL_AMT1+C_Bal.BILL_AMT2+C_Bal.BILL_AMT3+C_Bal.BILL_AMT4\n",
    "          +C_Bal.BILL_AMT5+C_Bal.BILL_AMT6)]"
   ]
  },
  {
   "cell_type": "markdown",
   "metadata": {},
   "source": [
    "## For females age group is lower"
   ]
  },
  {
   "cell_type": "code",
   "execution_count": 25,
   "metadata": {
    "collapsed": false
   },
   "outputs": [
    {
     "data": {
      "text/plain": [
       "<matplotlib.axes._subplots.AxesSubplot at 0x2421a3c7780>"
      ]
     },
     "execution_count": 25,
     "metadata": {},
     "output_type": "execute_result"
    },
    {
     "data": {
      "image/png": "[encoded data removed]",
      "text/plain": [
       "<matplotlib.figure.Figure at 0x2421a380160>"
      ]
     },
     "metadata": {},
     "output_type": "display_data"
    }
   ],
   "source": [
    "C_BILL.boxplot('AGE','SEX')"
   ]
  },
  {
   "cell_type": "code",
   "execution_count": 56,
   "metadata": {
    "collapsed": false
   },
   "outputs": [
    {
     "data": {
      "text/plain": [
       "ID           624\n",
       "LIMIT_BAL    624\n",
       "SEX          624\n",
       "EDUCATION    624\n",
       "MARRIAGE     624\n",
       "AGE          624\n",
       "PAY_0        624\n",
       "PAY_2        624\n",
       "PAY_3        624\n",
       "PAY_4        624\n",
       "PAY_5        624\n",
       "PAY_6        624\n",
       "BILL_AMT1    624\n",
       "BILL_AMT2    624\n",
       "BILL_AMT3    624\n",
       "BILL_AMT4    624\n",
       "BILL_AMT5    624\n",
       "BILL_AMT6    624\n",
       "PAY_AMT1     624\n",
       "PAY_AMT2     624\n",
       "PAY_AMT3     624\n",
       "PAY_AMT4     624\n",
       "PAY_AMT5     624\n",
       "PAY_AMT6     624\n",
       "Y            624\n",
       "Diff         624\n",
       "dtype: int64"
      ]
     },
     "execution_count": 56,
     "metadata": {},
     "output_type": "execute_result"
    }
   ],
   "source": [
    "C_BILL[(C_BILL.MARRIAGE==2) & (C_BILL.SEX==2) & (C_BILL.EDUCATION==2)].count()"
   ]
  },
  {
   "cell_type": "code",
   "execution_count": 26,
   "metadata": {
    "collapsed": false
   },
   "outputs": [
    {
     "data": {
      "text/plain": [
       "array([[<matplotlib.axes._subplots.AxesSubplot object at 0x000002421A3EB8D0>]], dtype=object)"
      ]
     },
     "execution_count": 26,
     "metadata": {},
     "output_type": "execute_result"
    },
    {
     "data": {
      "image/png": "[encoded data removed]",
      "text/plain": [
       "<matplotlib.figure.Figure at 0x242188f8c18>"
      ]
     },
     "metadata": {},
     "output_type": "display_data"
    }
   ],
   "source": [
    "C_BILL.hist('SEX')"
   ]
  },
  {
   "cell_type": "code",
   "execution_count": 27,
   "metadata": {
    "collapsed": false
   },
   "outputs": [
    {
     "data": {
      "text/plain": [
       "ID           2015\n",
       "LIMIT_BAL    2015\n",
       "SEX          2015\n",
       "EDUCATION    2015\n",
       "MARRIAGE     2015\n",
       "AGE          2015\n",
       "PAY_0        2015\n",
       "PAY_2        2015\n",
       "PAY_3        2015\n",
       "PAY_4        2015\n",
       "PAY_5        2015\n",
       "PAY_6        2015\n",
       "BILL_AMT1    2015\n",
       "BILL_AMT2    2015\n",
       "BILL_AMT3    2015\n",
       "BILL_AMT4    2015\n",
       "BILL_AMT5    2015\n",
       "BILL_AMT6    2015\n",
       "PAY_AMT1     2015\n",
       "PAY_AMT2     2015\n",
       "PAY_AMT3     2015\n",
       "PAY_AMT4     2015\n",
       "PAY_AMT5     2015\n",
       "PAY_AMT6     2015\n",
       "Y            2015\n",
       "Diff         2015\n",
       "dtype: int64"
      ]
     },
     "execution_count": 27,
     "metadata": {},
     "output_type": "execute_result"
    }
   ],
   "source": [
    "C_BILL[C_BILL.MARRIAGE==1].count()"
   ]
  },
  {
   "cell_type": "markdown",
   "metadata": {},
   "source": [
    "## University > graduate > high school"
   ]
  },
  {
   "cell_type": "code",
   "execution_count": 28,
   "metadata": {
    "collapsed": false
   },
   "outputs": [
    {
     "data": {
      "text/plain": [
       "array([[<matplotlib.axes._subplots.AxesSubplot object at 0x000002421893F438>]], dtype=object)"
      ]
     },
     "execution_count": 28,
     "metadata": {},
     "output_type": "execute_result"
    },
    {
     "data": {
      "image/png": "[encoded data removed]",
      "text/plain": [
       "<matplotlib.figure.Figure at 0x2421897a6d8>"
      ]
     },
     "metadata": {},
     "output_type": "display_data"
    }
   ],
   "source": [
    "C_BILL.hist('EDUCATION')"
   ]
  },
  {
   "cell_type": "markdown",
   "metadata": {},
   "source": [
    "## Married are moe likely to default having limit balance lower than billed amount"
   ]
  },
  {
   "cell_type": "code",
   "execution_count": 29,
   "metadata": {
    "collapsed": false
   },
   "outputs": [
    {
     "data": {
      "text/plain": [
       "array([[<matplotlib.axes._subplots.AxesSubplot object at 0x00000242189FAD68>]], dtype=object)"
      ]
     },
     "execution_count": 29,
     "metadata": {},
     "output_type": "execute_result"
    },
    {
     "data": {
      "image/png": "[encoded data removed]",
      "text/plain": [
       "<matplotlib.figure.Figure at 0x24218a08080>"
      ]
     },
     "metadata": {},
     "output_type": "display_data"
    }
   ],
   "source": [
    "C_BILL.hist('MARRIAGE')"
   ]
  },
  {
   "cell_type": "markdown",
   "metadata": {},
   "source": [
    "## Single peple whose limit balance are more than amount paid are more likely to default. Also, females are in lead in comparison to males. Females age group is lower than males."
   ]
  },
  {
   "cell_type": "code",
   "execution_count": 30,
   "metadata": {
    "collapsed": false
   },
   "outputs": [],
   "source": [
    "C_Paid=C_Bal[C_Bal.LIMIT_BAL > (C_Bal.PAY_AMT1+C_Bal.PAY_AMT2+\n",
    "                         C_Bal.PAY_AMT3+C_Bal.PAY_AMT4+C_Bal.PAY_AMT5+C_Bal.PAY_AMT6)]"
   ]
  },
  {
   "cell_type": "code",
   "execution_count": 31,
   "metadata": {
    "collapsed": false
   },
   "outputs": [
    {
     "data": {
      "text/plain": [
       "array([<matplotlib.axes._subplots.AxesSubplot object at 0x000002421A43D0F0>,\n",
       "       <matplotlib.axes._subplots.AxesSubplot object at 0x000002421A529390>], dtype=object)"
      ]
     },
     "execution_count": 31,
     "metadata": {},
     "output_type": "execute_result"
    },
    {
     "data": {
      "image/png": "[encoded data removed]",
      "text/plain": [
       "<matplotlib.figure.Figure at 0x2421a4426d8>"
      ]
     },
     "metadata": {},
     "output_type": "display_data"
    }
   ],
   "source": [
    "C_Paid.hist('AGE','SEX',bins=5)"
   ]
  },
  {
   "cell_type": "code",
   "execution_count": 32,
   "metadata": {
    "collapsed": false
   },
   "outputs": [
    {
     "data": {
      "text/plain": [
       "array([[<matplotlib.axes._subplots.AxesSubplot object at 0x000002421A5963C8>]], dtype=object)"
      ]
     },
     "execution_count": 32,
     "metadata": {},
     "output_type": "execute_result"
    },
    {
     "data": {
      "image/png": "[encoded data removed]",
      "text/plain": [
       "<matplotlib.figure.Figure at 0x2421a4bc358>"
      ]
     },
     "metadata": {},
     "output_type": "display_data"
    }
   ],
   "source": [
    "C_Paid.hist('MARRIAGE')"
   ]
  },
  {
   "cell_type": "code",
   "execution_count": 63,
   "metadata": {
    "collapsed": false
   },
   "outputs": [
    {
     "data": {
      "text/plain": [
       "ID           719\n",
       "LIMIT_BAL    719\n",
       "SEX          719\n",
       "EDUCATION    719\n",
       "MARRIAGE     719\n",
       "AGE          719\n",
       "PAY_0        719\n",
       "PAY_2        719\n",
       "PAY_3        719\n",
       "PAY_4        719\n",
       "PAY_5        719\n",
       "PAY_6        719\n",
       "BILL_AMT1    719\n",
       "BILL_AMT2    719\n",
       "BILL_AMT3    719\n",
       "BILL_AMT4    719\n",
       "BILL_AMT5    719\n",
       "BILL_AMT6    719\n",
       "PAY_AMT1     719\n",
       "PAY_AMT2     719\n",
       "PAY_AMT3     719\n",
       "PAY_AMT4     719\n",
       "PAY_AMT5     719\n",
       "PAY_AMT6     719\n",
       "Y            719\n",
       "Diff         719\n",
       "dtype: int64"
      ]
     },
     "execution_count": 63,
     "metadata": {},
     "output_type": "execute_result"
    }
   ],
   "source": [
    "C_Paid[(C_Paid.SEX==1) & (C_Paid.MARRIAGE==2) & (C_Paid.EDUCATION==2)].count()"
   ]
  },
  {
   "cell_type": "code",
   "execution_count": 33,
   "metadata": {
    "collapsed": false
   },
   "outputs": [
    {
     "data": {
      "text/plain": [
       "array([[<matplotlib.axes._subplots.AxesSubplot object at 0x000002421A4E45C0>]], dtype=object)"
      ]
     },
     "execution_count": 33,
     "metadata": {},
     "output_type": "execute_result"
    },
    {
     "data": {
      "image/png": "[encoded data removed]",
      "text/plain": [
       "<matplotlib.figure.Figure at 0x2421ad17198>"
      ]
     },
     "metadata": {},
     "output_type": "display_data"
    }
   ],
   "source": [
    "C_Paid.hist('EDUCATION')"
   ]
  },
  {
   "cell_type": "markdown",
   "metadata": {},
   "source": [
    "## Marries people who are @ deafult having their limit balance more than bill charged and amount paid "
   ]
  },
  {
   "cell_type": "code",
   "execution_count": 34,
   "metadata": {
    "collapsed": false
   },
   "outputs": [],
   "source": [
    "C_CUM_Diff=C_Bal[C_Bal.LIMIT_BAL >abs((C_Bal.BILL_AMT1+C_Bal.BILL_AMT2+C_Bal.BILL_AMT3+C_Bal.BILL_AMT4\n",
    "                           +C_Bal.BILL_AMT5+C_Bal.BILL_AMT6)-(C_Bal.PAY_AMT1+C_Bal.PAY_AMT2+C_Bal.PAY_AMT3\n",
    "                            +C_Bal.PAY_AMT4+C_Bal.PAY_AMT5+C_Bal.PAY_AMT6))]"
   ]
  },
  {
   "cell_type": "code",
   "execution_count": 35,
   "metadata": {
    "collapsed": false
   },
   "outputs": [
    {
     "data": {
      "text/plain": [
       "array([[<matplotlib.axes._subplots.AxesSubplot object at 0x000002421C4D5710>]], dtype=object)"
      ]
     },
     "execution_count": 35,
     "metadata": {},
     "output_type": "execute_result"
    },
    {
     "data": {
      "image/png": "[encoded data removed]",
      "text/plain": [
       "<matplotlib.figure.Figure at 0x2421c4da6a0>"
      ]
     },
     "metadata": {},
     "output_type": "display_data"
    }
   ],
   "source": [
    "C_CUM_Diff.hist('MARRIAGE')"
   ]
  },
  {
   "cell_type": "code",
   "execution_count": 76,
   "metadata": {
    "collapsed": false
   },
   "outputs": [
    {
     "data": {
      "text/plain": [
       "ID           249\n",
       "LIMIT_BAL    249\n",
       "SEX          249\n",
       "EDUCATION    249\n",
       "MARRIAGE     249\n",
       "AGE          249\n",
       "PAY_0        249\n",
       "PAY_2        249\n",
       "PAY_3        249\n",
       "PAY_4        249\n",
       "PAY_5        249\n",
       "PAY_6        249\n",
       "BILL_AMT1    249\n",
       "BILL_AMT2    249\n",
       "BILL_AMT3    249\n",
       "BILL_AMT4    249\n",
       "BILL_AMT5    249\n",
       "BILL_AMT6    249\n",
       "PAY_AMT1     249\n",
       "PAY_AMT2     249\n",
       "PAY_AMT3     249\n",
       "PAY_AMT4     249\n",
       "PAY_AMT5     249\n",
       "PAY_AMT6     249\n",
       "Y            249\n",
       "Diff         249\n",
       "dtype: int64"
      ]
     },
     "execution_count": 76,
     "metadata": {},
     "output_type": "execute_result"
    }
   ],
   "source": [
    "C_CUM_Diff[(C_CUM_Diff.SEX==2) & (C_CUM_Diff.MARRIAGE==1) & (C_CUM_Diff.EDUCATION==1)].count()"
   ]
  },
  {
   "cell_type": "code",
   "execution_count": 36,
   "metadata": {
    "collapsed": false
   },
   "outputs": [
    {
     "data": {
      "text/plain": [
       "array([[<matplotlib.axes._subplots.AxesSubplot object at 0x000002421C567860>]], dtype=object)"
      ]
     },
     "execution_count": 36,
     "metadata": {},
     "output_type": "execute_result"
    },
    {
     "data": {
      "image/png": "[encoded data removed]",
      "text/plain": [
       "<matplotlib.figure.Figure at 0x2421c5cdcf8>"
      ]
     },
     "metadata": {},
     "output_type": "display_data"
    }
   ],
   "source": [
    "C_CUM_Diff.hist('EDUCATION')"
   ]
  },
  {
   "cell_type": "code",
   "execution_count": 37,
   "metadata": {
    "collapsed": true
   },
   "outputs": [],
   "source": [
    "C_CUM_Less=C_Bal[C_Bal.LIMIT_BAL <abs((C_Bal.BILL_AMT1+C_Bal.BILL_AMT2+C_Bal.BILL_AMT3+C_Bal.BILL_AMT4\n",
    "                           +C_Bal.BILL_AMT5+C_Bal.BILL_AMT6)-(C_Bal.PAY_AMT1+C_Bal.PAY_AMT2+C_Bal.PAY_AMT3\n",
    "                            +C_Bal.PAY_AMT4+C_Bal.PAY_AMT5+C_Bal.PAY_AMT6))]"
   ]
  },
  {
   "cell_type": "code",
   "execution_count": 88,
   "metadata": {
    "collapsed": false
   },
   "outputs": [
    {
     "data": {
      "text/plain": [
       "ID           130\n",
       "LIMIT_BAL    130\n",
       "SEX          130\n",
       "EDUCATION    130\n",
       "MARRIAGE     130\n",
       "AGE          130\n",
       "PAY_0        130\n",
       "PAY_2        130\n",
       "PAY_3        130\n",
       "PAY_4        130\n",
       "PAY_5        130\n",
       "PAY_6        130\n",
       "BILL_AMT1    130\n",
       "BILL_AMT2    130\n",
       "BILL_AMT3    130\n",
       "BILL_AMT4    130\n",
       "BILL_AMT5    130\n",
       "BILL_AMT6    130\n",
       "PAY_AMT1     130\n",
       "PAY_AMT2     130\n",
       "PAY_AMT3     130\n",
       "PAY_AMT4     130\n",
       "PAY_AMT5     130\n",
       "PAY_AMT6     130\n",
       "Y            130\n",
       "Diff         130\n",
       "dtype: int64"
      ]
     },
     "execution_count": 88,
     "metadata": {},
     "output_type": "execute_result"
    }
   ],
   "source": [
    "C_CUM_Less[(C_CUM_Less.SEX==2) & (C_CUM_Less.MARRIAGE==1s) & (C_CUM_Less.EDUCATION==1)].count()"
   ]
  },
  {
   "cell_type": "code",
   "execution_count": 39,
   "metadata": {
    "collapsed": false
   },
   "outputs": [
    {
     "data": {
      "text/plain": [
       "array([[<matplotlib.axes._subplots.AxesSubplot object at 0x000002421A501208>]], dtype=object)"
      ]
     },
     "execution_count": 39,
     "metadata": {},
     "output_type": "execute_result"
    },
    {
     "data": {
      "image/png": "[encoded data removed]",
      "text/plain": [
       "<matplotlib.figure.Figure at 0x2421c4aaef0>"
      ]
     },
     "metadata": {},
     "output_type": "display_data"
    }
   ],
   "source": [
    "C_CUM_Less.hist('MARRIAGE')"
   ]
  },
  {
   "cell_type": "code",
   "execution_count": 40,
   "metadata": {
    "collapsed": false
   },
   "outputs": [
    {
     "data": {
      "text/plain": [
       "array([[<matplotlib.axes._subplots.AxesSubplot object at 0x000002421C666518>]], dtype=object)"
      ]
     },
     "execution_count": 40,
     "metadata": {},
     "output_type": "execute_result"
    },
    {
     "data": {
      "image/png": "[encoded data removed]",
      "text/plain": [
       "<matplotlib.figure.Figure at 0x2421c66d550>"
      ]
     },
     "metadata": {},
     "output_type": "display_data"
    }
   ],
   "source": [
    "C_CUM_Less.hist('EDUCATION')"
   ]
  },
  {
   "cell_type": "code",
   "execution_count": null,
   "metadata": {
    "collapsed": true
   },
   "outputs": [],
   "source": []
  },
  {
   "cell_type": "code",
   "execution_count": null,
   "metadata": {
    "collapsed": true
   },
   "outputs": [],
   "source": []
  }
 ],
 "metadata": {
  "kernelspec": {
   "display_name": "Python [default]",
   "language": "python",
   "name": "python3"
  },
  "language_info": {
   "codemirror_mode": {
    "name": "ipython",
    "version": 3
   },
   "file_extension": ".py",
   "mimetype": "text/x-python",
   "name": "python",
   "nbconvert_exporter": "python",
   "pygments_lexer": "ipython3",
   "version": "3.5.1"
  }
 },
 "nbformat": 4,
 "nbformat_minor": 0
}
